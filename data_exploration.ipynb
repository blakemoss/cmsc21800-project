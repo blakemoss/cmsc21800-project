{
 "cells": [
  {
   "cell_type": "code",
   "execution_count": 202,
   "metadata": {},
   "outputs": [],
   "source": [
    "import numpy as np\n",
    "import pandas as pd\n",
    "from matplotlib import pyplot as plt"
   ]
  },
  {
   "cell_type": "code",
   "execution_count": 203,
   "metadata": {},
   "outputs": [
    {
     "name": "stdout",
     "output_type": "stream",
     "text": [
      "<class 'pandas.core.frame.DataFrame'>\n",
      "RangeIndex: 5368 entries, 0 to 5367\n",
      "Data columns (total 17 columns):\n",
      " #   Column                 Non-Null Count  Dtype  \n",
      "---  ------                 --------------  -----  \n",
      " 0   Unnamed: 0             5368 non-null   int64  \n",
      " 1   belongs_to_collection  5368 non-null   int64  \n",
      " 2   budget                 5368 non-null   float64\n",
      " 3   genres                 5368 non-null   object \n",
      " 4   id                     5368 non-null   int64  \n",
      " 5   original_language      5368 non-null   object \n",
      " 6   overview               5368 non-null   object \n",
      " 7   popularity             5368 non-null   float64\n",
      " 8   production_companies   5368 non-null   object \n",
      " 9   production_countries   5368 non-null   object \n",
      " 10  release_date           5368 non-null   object \n",
      " 11  revenue                5368 non-null   float64\n",
      " 12  runtime                5368 non-null   float64\n",
      " 13  spoken_languages       5368 non-null   object \n",
      " 14  title                  5368 non-null   object \n",
      " 15  vote_average           5368 non-null   float64\n",
      " 16  vote_count             5368 non-null   float64\n",
      "dtypes: float64(6), int64(3), object(8)\n",
      "memory usage: 713.1+ KB\n"
     ]
    }
   ],
   "source": [
    "md = pd.read_csv('clean_metadata.csv')\n",
    "md.info()"
   ]
  },
  {
   "cell_type": "code",
   "execution_count": 204,
   "metadata": {},
   "outputs": [
    {
     "name": "stdout",
     "output_type": "stream",
     "text": [
      "<class 'pandas.core.frame.DataFrame'>\n",
      "RangeIndex: 5368 entries, 0 to 5367\n",
      "Data columns (total 19 columns):\n",
      " #   Column                 Non-Null Count  Dtype  \n",
      "---  ------                 --------------  -----  \n",
      " 0   Unnamed: 0             5368 non-null   int64  \n",
      " 1   belongs_to_collection  5368 non-null   int64  \n",
      " 2   budget                 5368 non-null   float64\n",
      " 3   genres                 5368 non-null   object \n",
      " 4   id                     5368 non-null   int64  \n",
      " 5   original_language      5368 non-null   object \n",
      " 6   overview               5368 non-null   object \n",
      " 7   popularity             5368 non-null   float64\n",
      " 8   production_companies   5368 non-null   object \n",
      " 9   production_countries   5368 non-null   object \n",
      " 10  release_date           5368 non-null   object \n",
      " 11  revenue                5368 non-null   float64\n",
      " 12  runtime                5368 non-null   float64\n",
      " 13  spoken_languages       5368 non-null   object \n",
      " 14  title                  5368 non-null   object \n",
      " 15  vote_average           5368 non-null   float64\n",
      " 16  vote_count             5368 non-null   float64\n",
      " 17  return                 5368 non-null   float64\n",
      " 18  is_flop                5368 non-null   int64  \n",
      "dtypes: float64(7), int64(4), object(8)\n",
      "memory usage: 796.9+ KB\n"
     ]
    }
   ],
   "source": [
    "md['return'] = md['revenue'] / md['budget']\n",
    "md['is_flop'] = md['return'].apply(lambda x: 1 if x < 1 else 0)\n",
    "md.info()"
   ]
  },
  {
   "cell_type": "code",
   "execution_count": 205,
   "metadata": {},
   "outputs": [
    {
     "name": "stdout",
     "output_type": "stream",
     "text": [
      "<class 'pandas.core.frame.DataFrame'>\n",
      "RangeIndex: 5368 entries, 0 to 5367\n",
      "Data columns (total 15 columns):\n",
      " #   Column                 Non-Null Count  Dtype  \n",
      "---  ------                 --------------  -----  \n",
      " 0   belongs_to_collection  5368 non-null   int64  \n",
      " 1   budget                 5368 non-null   float64\n",
      " 2   genres                 5368 non-null   object \n",
      " 3   id                     5368 non-null   int64  \n",
      " 4   original_language      5368 non-null   object \n",
      " 5   overview               5368 non-null   object \n",
      " 6   production_companies   5368 non-null   object \n",
      " 7   production_countries   5368 non-null   object \n",
      " 8   release_date           5368 non-null   object \n",
      " 9   revenue                5368 non-null   float64\n",
      " 10  runtime                5368 non-null   float64\n",
      " 11  spoken_languages       5368 non-null   object \n",
      " 12  title                  5368 non-null   object \n",
      " 13  return                 5368 non-null   float64\n",
      " 14  is_flop                5368 non-null   int64  \n",
      "dtypes: float64(4), int64(3), object(8)\n",
      "memory usage: 629.2+ KB\n"
     ]
    }
   ],
   "source": [
    "column_list = [0, 7, 15, 16]\n",
    "md = md.drop(columns=md.columns[column_list])\n",
    "md.info()"
   ]
  },
  {
   "cell_type": "code",
   "execution_count": 206,
   "metadata": {},
   "outputs": [],
   "source": [
    "data = md.to_numpy()"
   ]
  },
  {
   "cell_type": "markdown",
   "metadata": {},
   "source": [
    "Graph budget vs. is_flop."
   ]
  },
  {
   "cell_type": "code",
   "execution_count": 207,
   "metadata": {},
   "outputs": [
    {
     "data": {
      "image/png": "[encoded data removed]",
      "text/plain": [
       "<Figure size 432x288 with 1 Axes>"
      ]
     },
     "metadata": {
      "needs_background": "light"
     },
     "output_type": "display_data"
    }
   ],
   "source": [
    "plt.scatter(data[:,1], data[:,14])\n",
    "plt.show()"
   ]
  },
  {
   "cell_type": "markdown",
   "metadata": {},
   "source": [
    "Find flop rate for movies in a collection vs movies not in a collection."
   ]
  },
  {
   "cell_type": "code",
   "execution_count": 208,
   "metadata": {},
   "outputs": [
    {
     "name": "stdout",
     "output_type": "stream",
     "text": [
      "prob of flop if in collection: 0.09730\n",
      "prob of flop if not in collection: 0.35682\n"
     ]
    }
   ],
   "source": [
    "sum_in = 0\n",
    "num_in = 0\n",
    "sum_not_in = 0\n",
    "num_not_in = 0\n",
    "\n",
    "\n",
    "for i in range(data.shape[0]):\n",
    "    if (data[i,0]==1):\n",
    "        sum_in += data[i,14]\n",
    "        num_in += 1\n",
    "    else:\n",
    "        sum_not_in += data[i,14]\n",
    "        num_not_in += 1\n",
    "\n",
    "prob1 = float(sum_in) / num_in\n",
    "prob2 = float(sum_not_in) / num_not_in\n",
    "print(\"prob of flop if in collection: %0.5f\" % prob1)\n",
    "print(\"prob of flop if not in collection: %0.5f\" % prob2)"
   ]
  },
  {
   "cell_type": "markdown",
   "metadata": {},
   "source": [
    "Graph runtime vs. is_flop."
   ]
  },
  {
   "cell_type": "code",
   "execution_count": 209,
   "metadata": {},
   "outputs": [
    {
     "data": {
      "image/png": "[encoded data removed]",
      "text/plain": [
       "<Figure size 432x288 with 1 Axes>"
      ]
     },
     "metadata": {
      "needs_background": "light"
     },
     "output_type": "display_data"
    }
   ],
   "source": [
    "plt.scatter(data[:,10], data[:,14])\n",
    "plt.show()"
   ]
  },
  {
   "cell_type": "markdown",
   "metadata": {},
   "source": [
    "Graph genre vs. flop rate. "
   ]
  },
  {
   "cell_type": "code",
   "execution_count": 210,
   "metadata": {},
   "outputs": [
    {
     "name": "stdout",
     "output_type": "stream",
     "text": [
      "[0.2781316348195329, 0.24112734864300625, 0.2226027397260274, 0.2833152762730228, 0.29651162790697677, 0.3559322033898305, 0.34972889233152593, 0.21092278719397364, 0.24853228962818003, 0.40625, 0.3446808510638298, 0.26791808873720135, 0.3177083333333333, 0.34085778781038373, 0.29289940828402367, 0.277602523659306, 0.0, 0.31491344873502, 0.28921568627450983, 0.2808988764044944]\n"
     ]
    }
   ],
   "source": [
    "genres = data[:,2]\n",
    "genre_list = ['Action', 'Adventure', 'Animation', 'Comedy', 'Crime',\n",
    "              'Documentary', 'Drama', 'Family', 'Fantasy', 'Foreign',\n",
    "              'History', 'Horror', 'Music', 'Mystery', 'Romance',\n",
    "              'Science Fiction', 'TV Movie', 'Thriller', 'War', 'Western']\n",
    "n = len(genre_list)\n",
    "sum_flop = [0]*n\n",
    "num_flop = [0]*n\n",
    "for i in range(genres.size):\n",
    "    for j in range(n):\n",
    "        if genre_list[j] in genres[i]:\n",
    "            sum_flop[j] += data[i,14]\n",
    "            num_flop[j] += 1\n",
    "            \n",
    "flop_rate = [x/y for x,y in zip(sum_flop, num_flop)]\n",
    "print(flop_rate)"
   ]
  },
  {
   "cell_type": "code",
   "execution_count": 218,
   "metadata": {},
   "outputs": [
    {
     "data": {
      "image/png": "[encoded data removed]",
      "text/plain": [
       "<Figure size 1728x216 with 1 Axes>"
      ]
     },
     "metadata": {
      "needs_background": "light"
     },
     "output_type": "display_data"
    }
   ],
   "source": [
    "plt.figure(figsize=(24,3))\n",
    "plt.bar(genre_list, flop_rate)\n",
    "plt.show()"
   ]
  },
  {
   "cell_type": "code",
   "execution_count": null,
   "metadata": {},
   "outputs": [],
   "source": []
  }
 ],
 "metadata": {
  "kernelspec": {
   "display_name": "Python 3",
   "language": "python",
   "name": "python3"
  },
  "language_info": {
   "codemirror_mode": {
    "name": "ipython",
    "version": 3
   },
   "file_extension": ".py",
   "mimetype": "text/x-python",
   "name": "python",
   "nbconvert_exporter": "python",
   "pygments_lexer": "ipython3",
   "version": "3.7.7"
  }
 },
 "nbformat": 4,
 "nbformat_minor": 4
}
