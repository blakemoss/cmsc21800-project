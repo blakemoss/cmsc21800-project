{
 "cells": [
  {
   "cell_type": "code",
   "execution_count": 635,
   "metadata": {},
   "outputs": [],
   "source": [
    "import numpy as np\n",
    "import pandas as pd\n",
    "\n",
    "from sklearn.linear_model import LogisticRegression\n",
    "from sklearn.metrics import r2_score\n",
    "from sklearn.metrics import accuracy_score\n",
    "from sklearn.model_selection import train_test_split\n",
    "from sklearn.preprocessing import StandardScaler\n",
    "from sklearn.preprocessing import PolynomialFeatures\n",
    "\n",
    "from matplotlib import pyplot as plt"
   ]
  },
  {
   "cell_type": "code",
   "execution_count": 636,
   "metadata": {},
   "outputs": [
    {
     "name": "stdout",
     "output_type": "stream",
     "text": [
      "<class 'pandas.core.frame.DataFrame'>\n",
      "RangeIndex: 5368 entries, 0 to 5367\n",
      "Data columns (total 17 columns):\n",
      " #   Column                 Non-Null Count  Dtype  \n",
      "---  ------                 --------------  -----  \n",
      " 0   Unnamed: 0             5368 non-null   int64  \n",
      " 1   belongs_to_collection  5368 non-null   int64  \n",
      " 2   budget                 5368 non-null   float64\n",
      " 3   genres                 5368 non-null   object \n",
      " 4   id                     5368 non-null   int64  \n",
      " 5   original_language      5368 non-null   object \n",
      " 6   overview               5368 non-null   object \n",
      " 7   popularity             5368 non-null   float64\n",
      " 8   production_companies   5368 non-null   object \n",
      " 9   production_countries   5368 non-null   object \n",
      " 10  release_date           5368 non-null   object \n",
      " 11  revenue                5368 non-null   float64\n",
      " 12  runtime                5368 non-null   float64\n",
      " 13  spoken_languages       5368 non-null   object \n",
      " 14  title                  5368 non-null   object \n",
      " 15  vote_average           5368 non-null   float64\n",
      " 16  vote_count             5368 non-null   float64\n",
      "dtypes: float64(6), int64(3), object(8)\n",
      "memory usage: 713.1+ KB\n"
     ]
    }
   ],
   "source": [
    "md = pd.read_csv('clean_metadata.csv')\n",
    "md.info()"
   ]
  },
  {
   "cell_type": "markdown",
   "metadata": {},
   "source": [
    "Now, we want to take out the budget, runtime, and language data and plot those data with respect to revenue. "
   ]
  },
  {
   "cell_type": "code",
   "execution_count": 637,
   "metadata": {},
   "outputs": [],
   "source": [
    "rg1 = md.copy(deep=True)\n",
    "column_list = [0, 3, 4, 6, 7, 8, 9, 10, 13, 14, 15, 16]\n",
    "rg1 = rg1.drop(columns=rg1.columns[column_list])\n",
    "column_order = ['revenue', 'belongs_to_collection','budget', 'original_language', 'runtime']\n",
    "rg1 = rg1.reindex(columns=column_order)"
   ]
  },
  {
   "cell_type": "code",
   "execution_count": 638,
   "metadata": {},
   "outputs": [
    {
     "name": "stdout",
     "output_type": "stream",
     "text": [
      "<class 'pandas.core.frame.DataFrame'>\n",
      "RangeIndex: 5368 entries, 0 to 5367\n",
      "Data columns (total 5 columns):\n",
      " #   Column                 Non-Null Count  Dtype  \n",
      "---  ------                 --------------  -----  \n",
      " 0   revenue                5368 non-null   float64\n",
      " 1   belongs_to_collection  5368 non-null   int64  \n",
      " 2   budget                 5368 non-null   float64\n",
      " 3   original_language      5368 non-null   object \n",
      " 4   runtime                5368 non-null   float64\n",
      "dtypes: float64(3), int64(1), object(1)\n",
      "memory usage: 209.8+ KB\n"
     ]
    }
   ],
   "source": [
    "rg1.info()"
   ]
  },
  {
   "cell_type": "markdown",
   "metadata": {},
   "source": [
    "We now perform some feature engineering. First, we break apart the original_language column into column specifying the exact language. "
   ]
  },
  {
   "cell_type": "code",
   "execution_count": 639,
   "metadata": {},
   "outputs": [],
   "source": [
    "rg1['en'] = rg1['original_language'].apply(lambda x: 1 if x=='en' else 0)\n",
    "rg1 = rg1.drop(['original_language'], axis=1)"
   ]
  },
  {
   "cell_type": "markdown",
   "metadata": {},
   "source": [
    "Most importantly, we add a column 'return' that calculates the ratio of return for a movie (revenue/budget). "
   ]
  },
  {
   "cell_type": "code",
   "execution_count": 640,
   "metadata": {},
   "outputs": [],
   "source": [
    "rg1['return'] = rg1['revenue'] / rg1['budget']"
   ]
  },
  {
   "cell_type": "markdown",
   "metadata": {},
   "source": [
    "We now also create a column 'is_flop' from the new 'return' column, where 'is_flop' is 1 when 'return' < 1, and is 0 otherwise."
   ]
  },
  {
   "cell_type": "code",
   "execution_count": 641,
   "metadata": {},
   "outputs": [
    {
     "data": {
      "text/html": [
       "<div>\n",
       "<style scoped>\n",
       "    .dataframe tbody tr th:only-of-type {\n",
       "        vertical-align: middle;\n",
       "    }\n",
       "\n",
       "    .dataframe tbody tr th {\n",
       "        vertical-align: top;\n",
       "    }\n",
       "\n",
       "    .dataframe thead th {\n",
       "        text-align: right;\n",
       "    }\n",
       "</style>\n",
       "<table border=\"1\" class=\"dataframe\">\n",
       "  <thead>\n",
       "    <tr style=\"text-align: right;\">\n",
       "      <th></th>\n",
       "      <th>0</th>\n",
       "      <th>1</th>\n",
       "      <th>2</th>\n",
       "      <th>3</th>\n",
       "      <th>4</th>\n",
       "    </tr>\n",
       "  </thead>\n",
       "  <tbody>\n",
       "    <tr>\n",
       "      <th>revenue</th>\n",
       "      <td>3.735540e+08</td>\n",
       "      <td>2.627972e+08</td>\n",
       "      <td>8.145216e+07</td>\n",
       "      <td>1.874368e+08</td>\n",
       "      <td>6.435017e+07</td>\n",
       "    </tr>\n",
       "    <tr>\n",
       "      <th>belongs_to_collection</th>\n",
       "      <td>1.000000e+00</td>\n",
       "      <td>0.000000e+00</td>\n",
       "      <td>0.000000e+00</td>\n",
       "      <td>0.000000e+00</td>\n",
       "      <td>0.000000e+00</td>\n",
       "    </tr>\n",
       "    <tr>\n",
       "      <th>budget</th>\n",
       "      <td>3.000000e+07</td>\n",
       "      <td>6.500000e+07</td>\n",
       "      <td>1.600000e+07</td>\n",
       "      <td>6.000000e+07</td>\n",
       "      <td>3.500000e+07</td>\n",
       "    </tr>\n",
       "    <tr>\n",
       "      <th>runtime</th>\n",
       "      <td>8.100000e+01</td>\n",
       "      <td>1.040000e+02</td>\n",
       "      <td>1.270000e+02</td>\n",
       "      <td>1.700000e+02</td>\n",
       "      <td>1.060000e+02</td>\n",
       "    </tr>\n",
       "    <tr>\n",
       "      <th>en</th>\n",
       "      <td>1.000000e+00</td>\n",
       "      <td>1.000000e+00</td>\n",
       "      <td>1.000000e+00</td>\n",
       "      <td>1.000000e+00</td>\n",
       "      <td>1.000000e+00</td>\n",
       "    </tr>\n",
       "    <tr>\n",
       "      <th>return</th>\n",
       "      <td>1.245180e+01</td>\n",
       "      <td>4.043035e+00</td>\n",
       "      <td>5.090760e+00</td>\n",
       "      <td>3.123947e+00</td>\n",
       "      <td>1.838576e+00</td>\n",
       "    </tr>\n",
       "    <tr>\n",
       "      <th>is_flop</th>\n",
       "      <td>0.000000e+00</td>\n",
       "      <td>0.000000e+00</td>\n",
       "      <td>0.000000e+00</td>\n",
       "      <td>0.000000e+00</td>\n",
       "      <td>0.000000e+00</td>\n",
       "    </tr>\n",
       "  </tbody>\n",
       "</table>\n",
       "</div>"
      ],
      "text/plain": [
       "                                  0             1             2             3  \\\n",
       "revenue                3.735540e+08  2.627972e+08  8.145216e+07  1.874368e+08   \n",
       "belongs_to_collection  1.000000e+00  0.000000e+00  0.000000e+00  0.000000e+00   \n",
       "budget                 3.000000e+07  6.500000e+07  1.600000e+07  6.000000e+07   \n",
       "runtime                8.100000e+01  1.040000e+02  1.270000e+02  1.700000e+02   \n",
       "en                     1.000000e+00  1.000000e+00  1.000000e+00  1.000000e+00   \n",
       "return                 1.245180e+01  4.043035e+00  5.090760e+00  3.123947e+00   \n",
       "is_flop                0.000000e+00  0.000000e+00  0.000000e+00  0.000000e+00   \n",
       "\n",
       "                                  4  \n",
       "revenue                6.435017e+07  \n",
       "belongs_to_collection  0.000000e+00  \n",
       "budget                 3.500000e+07  \n",
       "runtime                1.060000e+02  \n",
       "en                     1.000000e+00  \n",
       "return                 1.838576e+00  \n",
       "is_flop                0.000000e+00  "
      ]
     },
     "execution_count": 641,
     "metadata": {},
     "output_type": "execute_result"
    }
   ],
   "source": [
    "rg1['is_flop'] = rg1['return'].apply(lambda x: 1 if x < 1 else 0)\n",
    "rg1.head().transpose()"
   ]
  },
  {
   "cell_type": "markdown",
   "metadata": {},
   "source": [
    "We check to see how many flops there are compared to not flops. "
   ]
  },
  {
   "cell_type": "code",
   "execution_count": 642,
   "metadata": {},
   "outputs": [
    {
     "data": {
      "text/plain": [
       "(3770, 7)"
      ]
     },
     "execution_count": 642,
     "metadata": {},
     "output_type": "execute_result"
    }
   ],
   "source": [
    "rg1[rg1['is_flop']==0].shape"
   ]
  },
  {
   "cell_type": "code",
   "execution_count": 643,
   "metadata": {},
   "outputs": [
    {
     "data": {
      "text/plain": [
       "(1598, 7)"
      ]
     },
     "execution_count": 643,
     "metadata": {},
     "output_type": "execute_result"
    }
   ],
   "source": [
    "rg1[rg1['is_flop']==1].shape"
   ]
  },
  {
   "cell_type": "code",
   "execution_count": 644,
   "metadata": {},
   "outputs": [],
   "source": [
    "rg1 = rg1.drop(columns=['en', 'runtime', 'belongs_to_collection', 'budget'])"
   ]
  },
  {
   "cell_type": "markdown",
   "metadata": {},
   "source": [
    "We convert the pandas dataframe to a numpy array."
   ]
  },
  {
   "cell_type": "code",
   "execution_count": 645,
   "metadata": {},
   "outputs": [],
   "source": [
    "data = rg1.to_numpy()"
   ]
  },
  {
   "cell_type": "code",
   "execution_count": 646,
   "metadata": {},
   "outputs": [
    {
     "name": "stdout",
     "output_type": "stream",
     "text": [
      "0.7001862197392924\n"
     ]
    }
   ],
   "source": [
    "X, y = data[:, 1:-2], data[:, -1]\n",
    "\n",
    "'''# add polynomial features to X\n",
    "pol = PolynomialFeatures(degree=4)\n",
    "Xp = pol.fit_transform(X)'''\n",
    "\n",
    "# create testing and training datasets\n",
    "Xp_train, Xp_test, y_train, y_test = train_test_split(X, y, test_size=0.2, random_state=1)\n",
    "\n",
    "# normalize X_train, X_test\n",
    "scaler = StandardScaler()\n",
    "Xp_train = scaler.fit_transform(X_train)\n",
    "Xp_test = scaler.transform(X_test)\n",
    "\n",
    "# run logistic regression\n",
    "model = LogisticRegression(multi_class='ovr')\n",
    "model.fit(Xp_train, y_train)\n",
    "\n",
    "y_pred = model.predict(Xp_test)\n",
    "print(accuracy_score(y_test, y_pred))"
   ]
  },
  {
   "cell_type": "code",
   "execution_count": null,
   "metadata": {},
   "outputs": [],
   "source": []
  }
 ],
 "metadata": {
  "kernelspec": {
   "display_name": "Python 3",
   "language": "python",
   "name": "python3"
  },
  "language_info": {
   "codemirror_mode": {
    "name": "ipython",
    "version": 3
   },
   "file_extension": ".py",
   "mimetype": "text/x-python",
   "name": "python",
   "nbconvert_exporter": "python",
   "pygments_lexer": "ipython3",
   "version": "3.7.7"
  }
 },
 "nbformat": 4,
 "nbformat_minor": 4
}
