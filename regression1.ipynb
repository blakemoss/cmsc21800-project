{
 "cells": [
  {
   "cell_type": "code",
   "execution_count": 143,
   "metadata": {},
   "outputs": [],
   "source": [
    "import os\n",
    "import numpy as np\n",
    "import pandas as pd\n",
    "from scipy import optimize\n",
    "from matplotlib import pyplot as plt"
   ]
  },
  {
   "cell_type": "code",
   "execution_count": 144,
   "metadata": {},
   "outputs": [
    {
     "name": "stdout",
     "output_type": "stream",
     "text": [
      "<class 'pandas.core.frame.DataFrame'>\n",
      "RangeIndex: 5368 entries, 0 to 5367\n",
      "Data columns (total 16 columns):\n",
      " #   Column                Non-Null Count  Dtype  \n",
      "---  ------                --------------  -----  \n",
      " 0   Unnamed: 0            5368 non-null   int64  \n",
      " 1   budget                5368 non-null   float64\n",
      " 2   genres                5368 non-null   object \n",
      " 3   id                    5368 non-null   int64  \n",
      " 4   original_language     5368 non-null   object \n",
      " 5   overview              5368 non-null   object \n",
      " 6   popularity            5368 non-null   float64\n",
      " 7   production_companies  5368 non-null   object \n",
      " 8   production_countries  5368 non-null   object \n",
      " 9   release_date          5368 non-null   object \n",
      " 10  revenue               5368 non-null   float64\n",
      " 11  runtime               5368 non-null   float64\n",
      " 12  spoken_languages      5368 non-null   object \n",
      " 13  title                 5368 non-null   object \n",
      " 14  vote_average          5368 non-null   float64\n",
      " 15  vote_count            5368 non-null   float64\n",
      "dtypes: float64(6), int64(2), object(8)\n",
      "memory usage: 671.1+ KB\n"
     ]
    }
   ],
   "source": [
    "md = pd.read_csv('clean_metadata.csv')\n",
    "md.info()"
   ]
  },
  {
   "cell_type": "markdown",
   "metadata": {},
   "source": [
    "Now, we want to take out the budget, runtime, and language data and plot those data with respect to revenue. "
   ]
  },
  {
   "cell_type": "code",
   "execution_count": 145,
   "metadata": {},
   "outputs": [],
   "source": [
    "rg1 = md.copy(deep=True)\n",
    "column_list = [0, 2, 3, 5, 6, 7, 8, 9, 12, 13, 14, 15]\n",
    "rg1 = rg1.drop(columns=rg1.columns[column_list])\n",
    "column_order = ['revenue', 'budget', 'original_language', 'runtime']\n",
    "rg1 = rg1.reindex(columns=column_order)"
   ]
  },
  {
   "cell_type": "code",
   "execution_count": 146,
   "metadata": {},
   "outputs": [
    {
     "name": "stdout",
     "output_type": "stream",
     "text": [
      "<class 'pandas.core.frame.DataFrame'>\n",
      "RangeIndex: 5368 entries, 0 to 5367\n",
      "Data columns (total 4 columns):\n",
      " #   Column             Non-Null Count  Dtype  \n",
      "---  ------             --------------  -----  \n",
      " 0   revenue            5368 non-null   float64\n",
      " 1   budget             5368 non-null   float64\n",
      " 2   original_language  5368 non-null   object \n",
      " 3   runtime            5368 non-null   float64\n",
      "dtypes: float64(3), object(1)\n",
      "memory usage: 167.9+ KB\n"
     ]
    }
   ],
   "source": [
    "rg1.info()"
   ]
  },
  {
   "cell_type": "markdown",
   "metadata": {},
   "source": [
    "We now perform some feature engineering, specifically to expand the break apart the original_language column into column specifying the exact language."
   ]
  },
  {
   "cell_type": "code",
   "execution_count": 147,
   "metadata": {},
   "outputs": [],
   "source": [
    "rg1['en'] = rg1['original_language'].apply(lambda x: 1 if x=='en' else 0)\n",
    "rg1['fr'] = rg1['original_language'].apply(lambda x: 1 if x=='fr' else 0)\n",
    "rg1['cn'] = rg1['original_language'].apply(lambda x: 1 if x=='cn' else 0)\n",
    "rg1['ru'] = rg1['original_language'].apply(lambda x: 1 if x=='ru' else 0)\n",
    "rg1['zh'] = rg1['original_language'].apply(lambda x: 1 if x=='zh' else 0)\n",
    "rg1['es'] = rg1['original_language'].apply(lambda x: 1 if x=='es' else 0)\n",
    "rg1['sv'] = rg1['original_language'].apply(lambda x: 1 if x=='sv' else 0)\n",
    "rg1['de'] = rg1['original_language'].apply(lambda x: 1 if x=='de' else 0)\n",
    "rg1['bn'] = rg1['original_language'].apply(lambda x: 1 if x=='bn' else 0)\n",
    "rg1['ja'] = rg1['original_language'].apply(lambda x: 1 if x=='ja' else 0)\n",
    "rg1['ro'] = rg1['original_language'].apply(lambda x: 1 if x=='ro' else 0)\n",
    "rg1['it'] = rg1['original_language'].apply(lambda x: 1 if x=='it' else 0)\n",
    "rg1['da'] = rg1['original_language'].apply(lambda x: 1 if x=='da' else 0)\n",
    "rg1['cs'] = rg1['original_language'].apply(lambda x: 1 if x=='cs' else 0)\n",
    "rg1['pt'] = rg1['original_language'].apply(lambda x: 1 if x=='pt' else 0)\n",
    "rg1['fa'] = rg1['original_language'].apply(lambda x: 1 if x=='fa' else 0)\n",
    "rg1['ko'] = rg1['original_language'].apply(lambda x: 1 if x=='ko' else 0)\n",
    "rg1['hi'] = rg1['original_language'].apply(lambda x: 1 if x=='hi' else 0)\n",
    "rg1['el'] = rg1['original_language'].apply(lambda x: 1 if x=='el' else 0)\n",
    "rg1['pl'] = rg1['original_language'].apply(lambda x: 1 if x=='pl' else 0)\n",
    "rg1['hu'] = rg1['original_language'].apply(lambda x: 1 if x=='hu' else 0)\n",
    "rg1['th'] = rg1['original_language'].apply(lambda x: 1 if x=='th' else 0)\n",
    "rg1['tr'] = rg1['original_language'].apply(lambda x: 1 if x=='tr' else 0)\n",
    "rg1['bm'] = rg1['original_language'].apply(lambda x: 1 if x=='bm' else 0)\n",
    "rg1['af'] = rg1['original_language'].apply(lambda x: 1 if x=='af' else 0)\n",
    "rg1['fi'] = rg1['original_language'].apply(lambda x: 1 if x=='fi' else 0)\n",
    "rg1['nl'] = rg1['original_language'].apply(lambda x: 1 if x=='nl' else 0)\n",
    "rg1['vi'] = rg1['original_language'].apply(lambda x: 1 if x=='vi' else 0)\n",
    "rg1['he'] = rg1['original_language'].apply(lambda x: 1 if x=='he' else 0)\n",
    "rg1['no'] = rg1['original_language'].apply(lambda x: 1 if x=='no' else 0)\n",
    "rg1['ta'] = rg1['original_language'].apply(lambda x: 1 if x=='ta' else 0)\n",
    "rg1['sr'] = rg1['original_language'].apply(lambda x: 1 if x=='sr' else 0)\n",
    "rg1['nb'] = rg1['original_language'].apply(lambda x: 1 if x=='nb' else 0)\n",
    "rg1['ca'] = rg1['original_language'].apply(lambda x: 1 if x=='ca' else 0)\n",
    "rg1['id'] = rg1['original_language'].apply(lambda x: 1 if x=='id' else 0)\n",
    "rg1['ar'] = rg1['original_language'].apply(lambda x: 1 if x=='ar' else 0)\n",
    "rg1['ml'] = rg1['original_language'].apply(lambda x: 1 if x=='ml' else 0)\n",
    "rg1['ka'] = rg1['original_language'].apply(lambda x: 1 if x=='ka' else 0)\n",
    "rg1['kn'] = rg1['original_language'].apply(lambda x: 1 if x=='kn' else 0)\n",
    "rg1['is'] = rg1['original_language'].apply(lambda x: 1 if x=='is' else 0)\n",
    "rg1['te'] = rg1['original_language'].apply(lambda x: 1 if x=='te' else 0)\n",
    "rg1['mr'] = rg1['original_language'].apply(lambda x: 1 if x=='mr' else 0)\n",
    "rg1['ur'] = rg1['original_language'].apply(lambda x: 1 if x=='ur' else 0)\n",
    "rg1 = rg1.drop(['original_language'], axis=1)"
   ]
  },
  {
   "cell_type": "code",
   "execution_count": 148,
   "metadata": {},
   "outputs": [
    {
     "name": "stdout",
     "output_type": "stream",
     "text": [
      "<class 'pandas.core.frame.DataFrame'>\n",
      "RangeIndex: 5368 entries, 0 to 5367\n",
      "Data columns (total 46 columns):\n",
      " #   Column   Non-Null Count  Dtype  \n",
      "---  ------   --------------  -----  \n",
      " 0   revenue  5368 non-null   float64\n",
      " 1   budget   5368 non-null   float64\n",
      " 2   runtime  5368 non-null   float64\n",
      " 3   en       5368 non-null   int64  \n",
      " 4   fr       5368 non-null   int64  \n",
      " 5   cn       5368 non-null   int64  \n",
      " 6   ru       5368 non-null   int64  \n",
      " 7   zh       5368 non-null   int64  \n",
      " 8   es       5368 non-null   int64  \n",
      " 9   sv       5368 non-null   int64  \n",
      " 10  de       5368 non-null   int64  \n",
      " 11  bn       5368 non-null   int64  \n",
      " 12  ja       5368 non-null   int64  \n",
      " 13  ro       5368 non-null   int64  \n",
      " 14  it       5368 non-null   int64  \n",
      " 15  da       5368 non-null   int64  \n",
      " 16  cs       5368 non-null   int64  \n",
      " 17  pt       5368 non-null   int64  \n",
      " 18  fa       5368 non-null   int64  \n",
      " 19  ko       5368 non-null   int64  \n",
      " 20  hi       5368 non-null   int64  \n",
      " 21  el       5368 non-null   int64  \n",
      " 22  pl       5368 non-null   int64  \n",
      " 23  hu       5368 non-null   int64  \n",
      " 24  th       5368 non-null   int64  \n",
      " 25  tr       5368 non-null   int64  \n",
      " 26  bm       5368 non-null   int64  \n",
      " 27  af       5368 non-null   int64  \n",
      " 28  fi       5368 non-null   int64  \n",
      " 29  nl       5368 non-null   int64  \n",
      " 30  vi       5368 non-null   int64  \n",
      " 31  he       5368 non-null   int64  \n",
      " 32  no       5368 non-null   int64  \n",
      " 33  ta       5368 non-null   int64  \n",
      " 34  sr       5368 non-null   int64  \n",
      " 35  nb       5368 non-null   int64  \n",
      " 36  ca       5368 non-null   int64  \n",
      " 37  id       5368 non-null   int64  \n",
      " 38  ar       5368 non-null   int64  \n",
      " 39  ml       5368 non-null   int64  \n",
      " 40  ka       5368 non-null   int64  \n",
      " 41  kn       5368 non-null   int64  \n",
      " 42  is       5368 non-null   int64  \n",
      " 43  te       5368 non-null   int64  \n",
      " 44  mr       5368 non-null   int64  \n",
      " 45  ur       5368 non-null   int64  \n",
      "dtypes: float64(3), int64(43)\n",
      "memory usage: 1.9 MB\n"
     ]
    }
   ],
   "source": [
    "rg1.info()"
   ]
  },
  {
   "cell_type": "markdown",
   "metadata": {},
   "source": [
    "Now, we convert the pandas dataframe to a numpy array."
   ]
  },
  {
   "cell_type": "code",
   "execution_count": 149,
   "metadata": {},
   "outputs": [],
   "source": [
    "data = rg1.to_numpy()"
   ]
  },
  {
   "cell_type": "code",
   "execution_count": 150,
   "metadata": {},
   "outputs": [],
   "source": [
    "X, y = data[:, 1:], data[:, 0]\n",
    "m, n = X.shape"
   ]
  },
  {
   "cell_type": "code",
   "execution_count": 151,
   "metadata": {},
   "outputs": [
    {
     "name": "stdout",
     "output_type": "stream",
     "text": [
      "[[3.00e+07 8.10e+01 1.00e+00 ... 0.00e+00 0.00e+00 0.00e+00]\n",
      " [6.50e+07 1.04e+02 1.00e+00 ... 0.00e+00 0.00e+00 0.00e+00]\n",
      " [1.60e+07 1.27e+02 1.00e+00 ... 0.00e+00 0.00e+00 0.00e+00]\n",
      " ...\n",
      " [8.00e+05 1.00e+02 1.00e+00 ... 0.00e+00 0.00e+00 0.00e+00]\n",
      " [2.00e+06 1.07e+02 1.00e+00 ... 0.00e+00 0.00e+00 0.00e+00]\n",
      " [5.00e+06 9.10e+01 0.00e+00 ... 0.00e+00 0.00e+00 0.00e+00]]\n"
     ]
    }
   ],
   "source": [
    "print(X)"
   ]
  },
  {
   "cell_type": "code",
   "execution_count": 152,
   "metadata": {},
   "outputs": [
    {
     "name": "stdout",
     "output_type": "stream",
     "text": [
      "[3.73554033e+08 2.62797249e+08 8.14521560e+07 ... 1.32861200e+06\n",
      " 1.26879300e+06 1.41300000e+06]\n"
     ]
    }
   ],
   "source": [
    "print(y)"
   ]
  },
  {
   "cell_type": "markdown",
   "metadata": {},
   "source": [
    "Now, we normalize the data in X so that gradient descent converges faster (and so that data with higher magnitude is not weighted more heavily). "
   ]
  },
  {
   "cell_type": "code",
   "execution_count": 153,
   "metadata": {},
   "outputs": [],
   "source": [
    "def  featureNormalize(X):\n",
    "    \"\"\"\n",
    "    Normalizes the features in X. returns a normalized version of X where\n",
    "    the mean value of each feature is 0 and the standard deviation\n",
    "    is 1. This is often a good preprocessing step to do when working with\n",
    "    learning algorithms.\n",
    "    \n",
    "    Parameters\n",
    "    ----------\n",
    "    X : array_like\n",
    "        The dataset of shape (m x n).\n",
    "    \n",
    "    Returns\n",
    "    -------\n",
    "    X_norm : array_like\n",
    "        The normalized dataset of shape (m x n).\n",
    "    \n",
    "    Instructions\n",
    "    ------------\n",
    "    First, for each feature dimension, compute the mean of the feature\n",
    "    and subtract it from the dataset, storing the mean value in mu. \n",
    "    Next, compute the  standard deviation of each feature and divide\n",
    "    each feature by it's standard deviation, storing the standard deviation \n",
    "    in sigma. \n",
    "    \n",
    "    Note that X is a matrix where each column is a feature and each row is\n",
    "    an example. You needto perform the normalization separately for each feature. \n",
    "    \n",
    "    Hint\n",
    "    ----\n",
    "    You might find the 'np.mean' and 'np.std' functions useful.\n",
    "    \"\"\"\n",
    "    # You need to set these values correctly\n",
    "    X_norm = X.copy()\n",
    "    mu = np.zeros(X.shape[1])\n",
    "    sigma = np.zeros(X.shape[1])\n",
    "\n",
    "    # =========================== YOUR CODE HERE =====================\n",
    "    for i in range(X.shape[1]):\n",
    "        a = X[:, i]\n",
    "        m = np.mean(a)\n",
    "        mu[i] = np.mean(X[:, i])\n",
    "        sigma[i] = np.std(X[:, i])\n",
    "        for j in range(X.shape[0]):\n",
    "            X_norm[j, i] = (X[j, i] - mu[i]) / sigma[i]\n",
    "    # ================================================================\n",
    "    return X_norm, mu, sigma"
   ]
  },
  {
   "cell_type": "code",
   "execution_count": 154,
   "metadata": {},
   "outputs": [
    {
     "name": "stdout",
     "output_type": "stream",
     "text": [
      "Computed mean: [3.11495134e+07 1.09989940e+02 8.94001490e-01 1.63934426e-02\n",
      " 2.79433681e-03 1.21087928e-02 5.40238450e-03 7.07898659e-03\n",
      " 1.30402385e-03 4.09836066e-03 0.00000000e+00 7.26527571e-03\n",
      " 7.45156483e-04 5.21609538e-03 2.04918033e-03 0.00000000e+00\n",
      " 1.30402385e-03 1.86289121e-04 4.65722802e-03 1.82563338e-02\n",
      " 1.86289121e-04 7.45156483e-04 3.72578241e-04 3.72578241e-04\n",
      " 7.45156483e-04 1.86289121e-04 1.86289121e-04 5.58867362e-04\n",
      " 1.30402385e-03 1.86289121e-04 7.45156483e-04 7.45156483e-04\n",
      " 4.84351714e-03 5.58867362e-04 1.86289121e-04 1.86289121e-04\n",
      " 5.58867362e-04 0.00000000e+00 2.04918033e-03 0.00000000e+00\n",
      " 1.86289121e-04 1.86289121e-04 1.49031297e-03 1.86289121e-04\n",
      " 3.72578241e-04]\n",
      "Computed standard deviation: [4.01907264e+07 2.16427067e+01 3.07835712e-01 1.26983061e-01\n",
      " 5.27875790e-02 1.09371706e-01 7.33021060e-02 8.38383834e-02\n",
      " 3.60877177e-02 6.38871200e-02 0.00000000e+00 8.49263886e-02\n",
      " 2.72873822e-02 7.20339346e-02 4.52214682e-02 0.00000000e+00\n",
      " 3.60877177e-02 1.36475059e-02 6.80847872e-02 1.33876959e-01\n",
      " 1.36475059e-02 2.72873822e-02 1.92986898e-02 1.92986898e-02\n",
      " 2.72873822e-02 1.36475059e-02 1.36475059e-02 2.36337688e-02\n",
      " 3.60877177e-02 1.36475059e-02 2.72873822e-02 2.72873822e-02\n",
      " 6.94266338e-02 2.36337688e-02 1.36475059e-02 1.36475059e-02\n",
      " 2.36337688e-02 0.00000000e+00 4.52214682e-02 0.00000000e+00\n",
      " 1.36475059e-02 1.36475059e-02 3.85757947e-02 1.36475059e-02\n",
      " 1.92986898e-02]\n"
     ]
    },
    {
     "name": "stderr",
     "output_type": "stream",
     "text": [
      "/Users/lucasdu/Documents/aut20_DataScience/uc_datascience/lib/python3.7/site-packages/ipykernel_launcher.py:45: RuntimeWarning: invalid value encountered in double_scalars\n"
     ]
    }
   ],
   "source": [
    "X_norm, mu, sigma = featureNormalize(X)\n",
    "print('Computed mean:', mu)\n",
    "print('Computed standard deviation:', sigma)"
   ]
  },
  {
   "cell_type": "markdown",
   "metadata": {},
   "source": [
    "We can now add the column of 1s at the beginning, corresponding to the intercept feature $x_0 = 1$."
   ]
  },
  {
   "cell_type": "code",
   "execution_count": 155,
   "metadata": {},
   "outputs": [],
   "source": [
    "X = np.concatenate([np.ones((m, 1)), X], axis=1)"
   ]
  },
  {
   "cell_type": "markdown",
   "metadata": {},
   "source": [
    "With our normalized features and our corresponding revenue data, we can run a fairly simple regularized linear regression. First, we create a cost function that returns both the cost J and the gradient grad of our model given some parameters. Then we use scipy.optimize to run the regression."
   ]
  },
  {
   "cell_type": "code",
   "execution_count": 156,
   "metadata": {},
   "outputs": [],
   "source": [
    "def linearRegCostFunction(X, y, theta, lambda_=0.0):\n",
    "    \"\"\"\n",
    "    Compute cost and gradient for regularized linear regression \n",
    "    with multiple variables. Computes the cost of using theta as\n",
    "    the parameter for linear regression to fit the data points in X and y. \n",
    "    \n",
    "    Parameters\n",
    "    ----------\n",
    "    X : array_like\n",
    "        The dataset. Matrix with shape (m x n + 1) where m is the \n",
    "        total number of examples, and n is the number of features \n",
    "        before adding the bias term.\n",
    "    \n",
    "    y : array_like\n",
    "        The functions values at each datapoint. A vector of\n",
    "        shape (m, ).\n",
    "    \n",
    "    theta : array_like\n",
    "        The parameters for linear regression. A vector of shape (n+1,).\n",
    "    \n",
    "    lambda_ : float, optional\n",
    "        The regularization parameter.\n",
    "    \n",
    "    Returns\n",
    "    -------\n",
    "    J : float\n",
    "        The computed cost function. \n",
    "    \n",
    "    grad : array_like\n",
    "        The value of the cost function gradient w.r.t theta. \n",
    "        A vector of shape (n+1, ).\n",
    "    \n",
    "    Instructions\n",
    "    ------------\n",
    "    Compute the cost and gradient of regularized linear regression for\n",
    "    a particular choice of theta.\n",
    "    You should set J to the cost and grad to the gradient.\n",
    "    \"\"\"\n",
    "    # Initialize some useful values\n",
    "    m = y.size # number of training examples\n",
    "\n",
    "    # You need to return the following variables correctly \n",
    "    J = 0\n",
    "    grad = np.zeros(theta.shape)\n",
    "\n",
    "    # ====================== YOUR CODE HERE ======================\n",
    "    J_1 = (1. / (2. * m)) * np.sum((np.dot(X, theta) - y)**2)\n",
    "    J_reg = (lambda_ / (2. * m)) * np.sum(theta[1:]**2)\n",
    "    J = J_1 + J_reg\n",
    "    \n",
    "    grad_1 = (1. / m) * np.dot(X.T, (np.dot(X, theta) - y))\n",
    "    grad_reg = (lambda_ / m) * theta\n",
    "    grad_reg[0] = 0\n",
    "    grad = grad_1 + grad_reg\n",
    "    \n",
    "\n",
    "    # ============================================================\n",
    "    return J, grad"
   ]
  },
  {
   "cell_type": "code",
   "execution_count": 157,
   "metadata": {},
   "outputs": [],
   "source": [
    "def trainLinearReg(linearRegCostFunction, X, y, lambda_=0.0, maxiter=200):\n",
    "    \"\"\"\n",
    "    Trains linear regression using scipy's optimize.minimize.\n",
    "\n",
    "    Parameters\n",
    "    ----------\n",
    "    X : array_like\n",
    "        The dataset with shape (m x n+1). The bias term is assumed to be concatenated.\n",
    "\n",
    "    y : array_like\n",
    "        Function values at each datapoint. A vector of shape (m,).\n",
    "\n",
    "    lambda_ : float, optional\n",
    "        The regularization parameter.\n",
    "\n",
    "    maxiter : int, optional\n",
    "        Maximum number of iteration for the optimization algorithm.\n",
    "\n",
    "    Returns\n",
    "    -------\n",
    "    theta : array_like\n",
    "        The parameters for linear regression. This is a vector of shape (n+1,).\n",
    "    \"\"\"\n",
    "    # Initialize Theta\n",
    "    initial_theta = np.zeros(X.shape[1])\n",
    "\n",
    "    # Create \"short hand\" for the cost function to be minimized\n",
    "    costFunction = lambda t: linearRegCostFunction(X, y, t, lambda_)\n",
    "\n",
    "    # Now, costFunction is a function that takes in only one argument\n",
    "    options = {'maxiter': maxiter}\n",
    "\n",
    "    # Minimize using scipy\n",
    "    res = optimize.minimize(costFunction, initial_theta, jac=True, method='TNC', options=options)\n",
    "    return res.x"
   ]
  },
  {
   "cell_type": "code",
   "execution_count": 158,
   "metadata": {},
   "outputs": [
    {
     "name": "stdout",
     "output_type": "stream",
     "text": [
      "[-5.08928052e+07  2.96979314e+00  4.24513736e+05  2.66343295e+06\n",
      " -9.96210711e+06 -2.53112167e+06 -2.68200158e+06  1.42824014e+07\n",
      "  4.71991657e+06  5.07349510e+06 -8.07601140e+06  0.00000000e+00\n",
      "  1.36471499e+07 -3.00659033e+05  1.04243052e+06 -2.31757025e+06\n",
      "  0.00000000e+00 -5.78169681e+06  6.29020611e+05  2.37862987e+06\n",
      " -6.63929684e+06  9.44169212e+05  1.08180846e+06 -1.07494657e+05\n",
      "  3.33028125e+05  1.82847223e+06 -1.77691871e+05  5.62075686e+05\n",
      "  1.02732837e+06  5.92051942e+04 -4.35299806e+05  2.05254213e+06\n",
      " -9.38796568e+05 -1.01254404e+07  1.17202259e+06  3.37688218e+04\n",
      " -4.47411568e+05 -6.67192520e+05  0.00000000e+00 -5.32168111e+06\n",
      "  0.00000000e+00 -2.99134976e+05  6.88255626e+05  3.42368419e+06\n",
      " -8.00555897e+05  1.88405555e+05]\n"
     ]
    }
   ],
   "source": [
    "theta = trainLinearReg(linearRegCostFunction, X, y, lambda_=0)\n",
    "print(theta)"
   ]
  }
 ],
 "metadata": {
  "kernelspec": {
   "display_name": "Python 3",
   "language": "python",
   "name": "python3"
  },
  "language_info": {
   "codemirror_mode": {
    "name": "ipython",
    "version": 3
   },
   "file_extension": ".py",
   "mimetype": "text/x-python",
   "name": "python",
   "nbconvert_exporter": "python",
   "pygments_lexer": "ipython3",
   "version": "3.7.7"
  }
 },
 "nbformat": 4,
 "nbformat_minor": 4
}
